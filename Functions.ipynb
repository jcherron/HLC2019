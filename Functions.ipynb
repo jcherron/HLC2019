{
 "cells": [
  {
   "cell_type": "markdown",
   "metadata": {},
   "source": [
    "# Functions"
   ]
  },
  {
   "cell_type": "markdown",
   "metadata": {},
   "source": [
    "You have already encountered many functions that are built-in for Python:"
   ]
  },
  {
   "cell_type": "code",
   "execution_count": null,
   "metadata": {},
   "outputs": [],
   "source": [
    "seq = [\"AGTTTTA\",\"CACAGAGG\",\"TACCAGA\",\"ACGG\"]\n",
    "\n",
    "# Len is a function\n",
    "print(len(seq))\n",
    "\n",
    "# Append is a function \n",
    "seq.append(\"CCACA\")\n",
    "print(seq)"
   ]
  },
  {
   "cell_type": "markdown",
   "metadata": {},
   "source": [
    "### Why Functions?\n",
    "We want to bundle a set of instructions together that we can use repeatedly. \n",
    "\n",
    "Remember when we calculated the GC content of a sequence:"
   ]
  },
  {
   "cell_type": "code",
   "execution_count": 3,
   "metadata": {},
   "outputs": [
    {
     "name": "stdout",
     "output_type": "stream",
     "text": [
      "30.434782608695652\n"
     ]
    }
   ],
   "source": [
    "seq = \"ATGACCTTATGACTACTATACAT\"\n",
    "numGs_seq = seq.count('G')\n",
    "numCs_seq = seq.count('C')\n",
    "totalGCs_seq = numGs_seq + numCs_seq\n",
    "numbases_seq = len(seq)\n",
    "GCpercent_seq = 100*float(totalGCs_seq)/numbases_seq\n",
    "print(GCpercent_seq)"
   ]
  },
  {
   "cell_type": "markdown",
   "metadata": {},
   "source": [
    "Now what if we wanted to calculate GC content for another sequence? "
   ]
  },
  {
   "cell_type": "code",
   "execution_count": 4,
   "metadata": {},
   "outputs": [
    {
     "name": "stdout",
     "output_type": "stream",
     "text": [
      "52.94117647058823\n"
     ]
    }
   ],
   "source": [
    "seq2 = \"ACTTACTGGGCCTGATC\"\n",
    "numGs_seq2 = seq2.count('G')\n",
    "numCs_seq2 = seq2.count('C')\n",
    "totalGCs_seq2 = numGs_seq2 + numCs_seq2\n",
    "numbases_seq2 = len(seq2)\n",
    "GCpercent_seq2 = 100*float(totalGCs_seq2)/numbases_seq2\n",
    "print(GCpercent_seq2)"
   ]
  },
  {
   "cell_type": "markdown",
   "metadata": {},
   "source": [
    "This seems just too repetitive and we are bound to make some mistakes. \n",
    "\n",
    "Defining a function that calculates GC content which would take in a sequence input would make this much easier. "
   ]
  },
  {
   "cell_type": "markdown",
   "metadata": {},
   "source": [
    "## Defining functions\n",
    "\n",
    "Functions definitions have the following hard rules:\n",
    "\n",
    "* They the keyword `def`, to show that we're defining a function. \n",
    "* They need a name for the function followed by parentheses\n",
    "* The body of the function needs to be tabbed over"
   ]
  },
  {
   "cell_type": "code",
   "execution_count": 5,
   "metadata": {},
   "outputs": [],
   "source": [
    "def hello():\n",
    "    print(\"Hello World\")"
   ]
  },
  {
   "cell_type": "code",
   "execution_count": 8,
   "metadata": {},
   "outputs": [
    {
     "name": "stdout",
     "output_type": "stream",
     "text": [
      "Hello World\n",
      "Hello World\n",
      "as;ldjfa;s\n",
      "Hello World\n"
     ]
    }
   ],
   "source": [
    "# Execute the function\n",
    "hello()\n",
    "hello()\n",
    "print(\"as;ldjfa;s\")\n",
    "hello()"
   ]
  },
  {
   "cell_type": "markdown",
   "metadata": {},
   "source": [
    "When we run the function, the code inside it is executed as if it was all written right where the function was called. It does not matter where we define the function in our notebook or script, only where we call it. \n",
    "\n",
    "We can get more complicated with the code in our functions. Here I've written a function that prints out a rectangle with the help of a for loop:"
   ]
  },
  {
   "cell_type": "code",
   "execution_count": 9,
   "metadata": {},
   "outputs": [
    {
     "name": "stdout",
     "output_type": "stream",
     "text": [
      "******\n",
      "******\n",
      "******\n",
      "******\n"
     ]
    }
   ],
   "source": [
    "def print_rectangle():\n",
    "    height = 4\n",
    "    width = 6\n",
    "    for i in range(height):\n",
    "        print(\"*\" * width)\n",
    "        \n",
    "print_rectangle()"
   ]
  },
  {
   "cell_type": "markdown",
   "metadata": {},
   "source": [
    "Now we just type `print_rectangle()` anywhere in our code to run this function. This can be useful if we need the same rectangle to be printed multiple times, but it is not configurable. You might try making functions for every triangle size that we need:"
   ]
  },
  {
   "cell_type": "code",
   "execution_count": 10,
   "metadata": {},
   "outputs": [
    {
     "name": "stdout",
     "output_type": "stream",
     "text": [
      "*****\n",
      "*****\n",
      "*****\n",
      "*****\n",
      "*****\n",
      "\n",
      "******\n",
      "******\n",
      "******\n",
      "******\n",
      "\n",
      "*******\n",
      "*******\n",
      "*******\n"
     ]
    }
   ],
   "source": [
    "def print_5_by_5_rectangle():\n",
    "    height = 5\n",
    "    width = 5\n",
    "    for i in range(height):\n",
    "        print(\"*\" * width)\n",
    "    \n",
    "def print_4_by_6_rectangle():\n",
    "    height = 4\n",
    "    width = 6\n",
    "    for i in range(height):\n",
    "        print(\"*\" * width)\n",
    "    \n",
    "def print_3_by_7_rectangle():\n",
    "    height = 3\n",
    "    width = 7\n",
    "    for i in range(height):\n",
    "        print(\"*\" * width)\n",
    "        \n",
    "print_5_by_5_rectangle()\n",
    "print(\"\") #print empty line\n",
    "print_4_by_6_rectangle()\n",
    "print(\"\") #print empty line\n",
    "print_3_by_7_rectangle()"
   ]
  },
  {
   "cell_type": "markdown",
   "metadata": {},
   "source": [
    "Hopefully it is clear that this is not the approach we want to take, as we end up writing almost the same exact code over and over again. Functions can use **arguments**/**parameters** in order to add some customizability. The words argument and parameter technically mean different things, but you will hear people use them interchangeably to refer to data that we pass to a function. We will redefine the earlier `hello()` function to take in a number of times that we want to print hello in one line:"
   ]
  },
  {
   "cell_type": "code",
   "execution_count": 1,
   "metadata": {},
   "outputs": [
    {
     "name": "stdout",
     "output_type": "stream",
     "text": [
      "hello\n",
      "hellohellohellohello\n"
     ]
    }
   ],
   "source": [
    "def hello(n):\n",
    "    s = \"\"\n",
    "    for i in range(n):\n",
    "        s = s + \"hello\"\n",
    "    \n",
    "    print(s)\n",
    "    \n",
    "hello(1)\n",
    "hello(4)"
   ]
  },
  {
   "cell_type": "markdown",
   "metadata": {},
   "source": [
    "Here we've named our parameter `n`, and used it within the `range()` function. You can name parameters whatever you want, following the rules of variable naming. Once the function is called, the data that is passed to it is store in these variables.\n",
    "\n",
    "This can be a little confusing at first, which can be shown in the following example:"
   ]
  },
  {
   "cell_type": "code",
   "execution_count": 3,
   "metadata": {},
   "outputs": [
    {
     "name": "stdout",
     "output_type": "stream",
     "text": [
      "my_string\n",
      "my_string\n"
     ]
    },
    {
     "ename": "NameError",
     "evalue": "name 's' is not defined",
     "output_type": "error",
     "traceback": [
      "\u001b[0;31m---------------------------------------------------------------------------\u001b[0m",
      "\u001b[0;31mNameError\u001b[0m                                 Traceback (most recent call last)",
      "\u001b[0;32m<ipython-input-3-b92343b36f82>\u001b[0m in \u001b[0;36m<module>\u001b[0;34m()\u001b[0m\n\u001b[1;32m      5\u001b[0m \u001b[0mx\u001b[0m \u001b[0;34m=\u001b[0m \u001b[0;34m\"my_string\"\u001b[0m\u001b[0;34m\u001b[0m\u001b[0;34m\u001b[0m\u001b[0m\n\u001b[1;32m      6\u001b[0m \u001b[0mprint_twice\u001b[0m\u001b[0;34m(\u001b[0m\u001b[0mx\u001b[0m\u001b[0;34m)\u001b[0m\u001b[0;34m\u001b[0m\u001b[0;34m\u001b[0m\u001b[0m\n\u001b[0;32m----> 7\u001b[0;31m \u001b[0mprint\u001b[0m\u001b[0;34m(\u001b[0m\u001b[0ms\u001b[0m\u001b[0;34m)\u001b[0m\u001b[0;34m\u001b[0m\u001b[0;34m\u001b[0m\u001b[0m\n\u001b[0m",
      "\u001b[0;31mNameError\u001b[0m: name 's' is not defined"
     ]
    }
   ],
   "source": [
    "def print_twice(s):\n",
    "    print(s)\n",
    "    print(s)\n",
    "        \n",
    "x = \"my_string\"\n",
    "print_twice(x)\n",
    "#print(s)"
   ]
  },
  {
   "cell_type": "markdown",
   "metadata": {},
   "source": [
    "We used the parameter name `s` to store our string, and then used it in the `print()` function calls in the body of our function. However, when we used the function, nothing was called `s`. We used our variable `x` to store the string we wanted to send to the function. The variable `s` only exists in the context of the function we wrote, not outside of it. If you uncomment line 7 above, Python will complain that there is no variable called `s`. This is a very important concept called **scope**, which controls where and for how long a variable is accessible. Here's another example of scope coming into play, this time with a variable we define inside a function rather than a parameter:"
   ]
  },
  {
   "cell_type": "code",
   "execution_count": 6,
   "metadata": {},
   "outputs": [
    {
     "ename": "NameError",
     "evalue": "name 'function_variable' is not defined",
     "output_type": "error",
     "traceback": [
      "\u001b[0;31m--------------------------------------------------------------\u001b[0m",
      "\u001b[0;31mNameError\u001b[0m                    Traceback (most recent call last)",
      "\u001b[0;32m<ipython-input-6-f5ee5424a478>\u001b[0m in \u001b[0;36m<module>\u001b[0;34m()\u001b[0m\n\u001b[1;32m      4\u001b[0m \u001b[0;34m\u001b[0m\u001b[0m\n\u001b[1;32m      5\u001b[0m \u001b[0mdo_something\u001b[0m\u001b[0;34m(\u001b[0m\u001b[0;34m)\u001b[0m\u001b[0;34m\u001b[0m\u001b[0;34m\u001b[0m\u001b[0m\n\u001b[0;32m----> 6\u001b[0;31m \u001b[0mprint\u001b[0m\u001b[0;34m(\u001b[0m\u001b[0mfunction_variable\u001b[0m\u001b[0;34m)\u001b[0m\u001b[0;34m\u001b[0m\u001b[0;34m\u001b[0m\u001b[0m\n\u001b[0m",
      "\u001b[0;31mNameError\u001b[0m: name 'function_variable' is not defined"
     ]
    }
   ],
   "source": [
    "def do_something():\n",
    "    function_variable = 7\n",
    "    function_variable = function_variable ** 8\n",
    "    \n",
    "do_something()\n",
    "print(function_variable)"
   ]
  },
  {
   "cell_type": "markdown",
   "metadata": {},
   "source": [
    "This code throws a similar error to the one above. The variable named `function_variable` is defined inside our function, and only exists until the end of the function. When we try to use it outisde of the function, Python has no idea what we are talking about.\n",
    "\n",
    "Unfortunately, the same thing does not happen in the opposite case:"
   ]
  },
  {
   "cell_type": "code",
   "execution_count": 11,
   "metadata": {},
   "outputs": [
    {
     "name": "stdout",
     "output_type": "stream",
     "text": [
      "7\n"
     ]
    }
   ],
   "source": [
    "def do_something_else():\n",
    "    print(outside_variable)\n",
    "    \n",
    "outside_variable = 7\n",
    "do_something_else()"
   ]
  },
  {
   "cell_type": "markdown",
   "metadata": {},
   "source": [
    "Here `outside_variable` is known as a **global variable**, because it can be accessed anywhere. Personally I find this behavior to be a huge issue, as it breaks the convention of scope. Other programming languages like C and Java explicitly forbid this. I would advise that you never use global variables in this way, and only use parameters to pass data to a function. The main reason for this is that it is not clear in every case where the data is coming from. If I defined `outside_variable` 2,000 lines of code before I called `do_something_else()`, it could be difficult to figure out where the number 7 was coming from. To correct the above code, I would make sure to pass the data as a parameter:"
   ]
  },
  {
   "cell_type": "code",
   "execution_count": null,
   "metadata": {},
   "outputs": [],
   "source": [
    "def do_something_else(our_param):\n",
    "    print(our_param)\n",
    "    \n",
    "outside_variable = 7\n",
    "do_something_else(outside_variable)"
   ]
  },
  {
   "cell_type": "markdown",
   "metadata": {},
   "source": [
    "We get the same exact output, but the flow of information is much clearer here."
   ]
  },
  {
   "cell_type": "markdown",
   "metadata": {},
   "source": [
    "So far we've only used functions to print things, but a lot of their power comes from the `return` statement. Just like functions in the world of math, Python function can have inputs and outputs. So far we've only seen inputs, which we've called **arguments** or **parameters**. Output values are usually called **return values**, because we use the keyword `return` to define them. Here's a simple example of a function that adds 4 to a number passed to it:"
   ]
  },
  {
   "cell_type": "code",
   "execution_count": 13,
   "metadata": {},
   "outputs": [
    {
     "name": "stdout",
     "output_type": "stream",
     "text": [
      "7\n",
      "11\n"
     ]
    }
   ],
   "source": [
    "def add_four(x):\n",
    "    y = x + 4\n",
    "    return y\n",
    "\n",
    "x = 7\n",
    "print(x)\n",
    "output = add_four(x)\n",
    "print(output)"
   ]
  },
  {
   "cell_type": "markdown",
   "metadata": {},
   "source": [
    "Notice that the `print()` call occurs outside the function. Our function just does some addition and hands the value back with the `return` keyword. I've chosen to store our intermediate value in a function variable called `y`, but this is not necessary. This code will do the exact thing with just one line in the function:"
   ]
  },
  {
   "cell_type": "code",
   "execution_count": 4,
   "metadata": {},
   "outputs": [
    {
     "name": "stdout",
     "output_type": "stream",
     "text": [
      "7\n",
      "11\n"
     ]
    }
   ],
   "source": [
    "def add_four(x):\n",
    "    return (x + 4)\n",
    "\n",
    "x = 7\n",
    "print(x)\n",
    "print(add_four(x))"
   ]
  },
  {
   "cell_type": "markdown",
   "metadata": {},
   "source": [
    "This is a good time to note that a function can do pretty much anything, not just what we want it to do. The following code is perfectly legal in Python, but does not really make any sense:"
   ]
  },
  {
   "cell_type": "code",
   "execution_count": 5,
   "metadata": {},
   "outputs": [
    {
     "name": "stdout",
     "output_type": "stream",
     "text": [
      "8\n"
     ]
    }
   ],
   "source": [
    "def double_my_number(x):\n",
    "    return 8\n",
    "\n",
    "num = 14\n",
    "print(double_my_number(num))"
   ]
  },
  {
   "cell_type": "markdown",
   "metadata": {},
   "source": [
    "We called our function `double_my_number()`, which should have a pretty well-defined behavior. However, the code just returns the number 8 no matter what, and completely ignores the `x` parameter that we pass to it. You have to always be careful to make sure that a function is doing what you want it to do, as Python will not enforce anything but the basic rules about how a function should behave."
   ]
  },
  {
   "cell_type": "markdown",
   "metadata": {},
   "source": [
    "### Exercise\n",
    "\n",
    "Write a function that calculates the square root of a number, and returns it. Use that function to calculate the square root of 144."
   ]
  },
  {
   "cell_type": "code",
   "execution_count": 26,
   "metadata": {},
   "outputs": [
    {
     "name": "stdout",
     "output_type": "stream",
     "text": [
      "12.0\n"
     ]
    }
   ],
   "source": [
    "def square_root(square):\n",
    "    sr = square**0.5\n",
    "    return sr\n",
    "\n",
    "x = 144\n",
    "y = square_root(144)\n",
    "print(y)"
   ]
  },
  {
   "cell_type": "markdown",
   "metadata": {},
   "source": [
    "There is one final \"gotcha\" that can happen with functions. With simple data types like `int` and `float`, the values are copied into the function as new variables when the function is called. You can see this behavior with the following code:"
   ]
  },
  {
   "cell_type": "code",
   "execution_count": 27,
   "metadata": {},
   "outputs": [
    {
     "name": "stdout",
     "output_type": "stream",
     "text": [
      "8\n",
      "9\n"
     ]
    }
   ],
   "source": [
    "def add_one(x):\n",
    "    x = x + 1\n",
    "    return x\n",
    "\n",
    "n = 8\n",
    "m = add_one(n)\n",
    "print(n)\n",
    "print(m)"
   ]
  },
  {
   "cell_type": "markdown",
   "metadata": {},
   "source": [
    "Even though we explicitly update the value of `x` in our function, this does not update the value of the variable that we called passed in as `x` (in this case that variable was called `n`). Only the returned value that we stored in `m` reflects the addition.\n",
    "\n",
    "When we pass something more complicated like a list, the behavior is different:"
   ]
  },
  {
   "cell_type": "code",
   "execution_count": 28,
   "metadata": {},
   "outputs": [
    {
     "name": "stdout",
     "output_type": "stream",
     "text": [
      "[4, 5, 6, 7]\n",
      "[4, 5, 6, 7]\n"
     ]
    }
   ],
   "source": [
    "def append_to_list(x):\n",
    "    x.append(7)\n",
    "    return x\n",
    "\n",
    "my_list = [4,5,6]\n",
    "new_list = append_to_list(my_list)\n",
    "print(my_list)\n",
    "print(new_list)"
   ]
  },
  {
   "cell_type": "markdown",
   "metadata": {},
   "source": [
    "Here you can see that the list stored in the variable `my_list` gets updated, even though that update only happens in the function. This is different behavior that in the above case where our parameter is an `int`. We can't go into too much detail in this class about why the behavior is different, but you should always make sure that your function is doing what you expect by running a few test cases.\n",
    "\n",
    "Now that all of the warnings are out of the way, we can start working on some more advanced examples:"
   ]
  },
  {
   "cell_type": "code",
   "execution_count": 30,
   "metadata": {},
   "outputs": [],
   "source": [
    "def subtract(x,y):\n",
    "    z = x - y\n",
    "    return(z)"
   ]
  },
  {
   "cell_type": "code",
   "execution_count": 31,
   "metadata": {},
   "outputs": [
    {
     "data": {
      "text/plain": [
       "4"
      ]
     },
     "execution_count": 31,
     "metadata": {},
     "output_type": "execute_result"
    }
   ],
   "source": [
    "subtract(10,6)"
   ]
  },
  {
   "cell_type": "code",
   "execution_count": 33,
   "metadata": {},
   "outputs": [
    {
     "name": "stdout",
     "output_type": "stream",
     "text": [
      "6\n",
      "-6\n"
     ]
    }
   ],
   "source": [
    "print(subtract(10,4))\n",
    "print(subtract(y = 10,x = 4))"
   ]
  },
  {
   "cell_type": "markdown",
   "metadata": {},
   "source": [
    "Two new concepts are introduced in the above code. First, we can use an unlimited number of parameters in our function. `subtract()` takes both an `x` and a `y` argument. By default, the order of the parameters will match the order that they are defined in the function. For `subtract()`, the first parameter will be assigned to `x` and the second will be assigned to `y`, because that is the order that we typed them in the function. We can bypass this behavior by explicitly stating which parameter gets which value, which is shown in the line `subtract(y = 10, x = 4)`. The arguments here are reversed, but we tell the function what value we want to be what variable in the function. This is usually called **passing by keyword**, and is considered good programming practice.\n",
    "\n",
    "Let's revisit our rectangle functions from earlier, and generalize them to work with any size:"
   ]
  },
  {
   "cell_type": "code",
   "execution_count": 36,
   "metadata": {},
   "outputs": [
    {
     "name": "stdout",
     "output_type": "stream",
     "text": [
      "*****\n",
      "*****\n",
      "*****\n",
      "*****\n",
      "*****\n",
      "\n",
      "****\n",
      "****\n",
      "****\n",
      "****\n",
      "****\n",
      "****\n",
      "\n",
      "**\n",
      "**\n",
      "**\n",
      "**\n",
      "**\n",
      "**\n",
      "**\n",
      "\n"
     ]
    }
   ],
   "source": [
    "def print_rectangle(height, width):\n",
    "    for i in range(height):\n",
    "        print(\"*\" * width)\n",
    "        \n",
    "print_rectangle(5,5)\n",
    "print(\"\")    #empty line\n",
    "print_rectangle(6,4)\n",
    "print(\"\")    #empty line\n",
    "print_rectangle(height = 7, width = 2)     #passed by keyword\n",
    "print(\"\")\n",
    "#print_rectangle(100,100)"
   ]
  },
  {
   "cell_type": "code",
   "execution_count": 6,
   "metadata": {},
   "outputs": [
    {
     "name": "stdout",
     "output_type": "stream",
     "text": [
      "*****\n",
      "*****\n",
      "*****\n",
      "*****\n",
      "*****\n",
      "\n",
      "*****\n",
      "*****\n",
      "*****\n",
      "*****\n",
      "*****\n",
      "\n",
      "*****\n",
      "*****\n",
      "*****\n",
      "*****\n",
      "*****\n",
      "\n"
     ]
    }
   ],
   "source": [
    "def return_rectangle(height, width):\n",
    "    s = \"\"\n",
    "    for i in range(height):\n",
    "        s = s + (\"*\" * width) + '\\n'\n",
    "        \n",
    "    return s\n",
    "\n",
    "y = return_rectangle(5,5)\n",
    "\n",
    "for i in range(3):\n",
    "    print(y)"
   ]
  },
  {
   "cell_type": "markdown",
   "metadata": {},
   "source": [
    "Now we have cleaned up what used to be three functions into just one, which is much more pleasant to use. I called the function three times with different arguments. The last time I passed by keyword. Hopefully you can see how this makes the behavior of the function clearer to whoever reads it."
   ]
  },
  {
   "cell_type": "markdown",
   "metadata": {},
   "source": [
    "### Exercises\n",
    "\n",
    "Write a function that prints a triangle, like the example we did last week. This function should have one parameter that controls how tall the triangle will be. Use this function to print a triangle that is 10 lines tall."
   ]
  },
  {
   "cell_type": "code",
   "execution_count": 8,
   "metadata": {},
   "outputs": [
    {
     "name": "stdout",
     "output_type": "stream",
     "text": [
      "*\n",
      "**\n",
      "***\n",
      "****\n",
      "*****\n",
      "******\n",
      "*******\n",
      "********\n",
      "*********\n",
      "**********\n",
      "\n"
     ]
    }
   ],
   "source": [
    "#*\n",
    "#**\n",
    "#***\n",
    "#****\n",
    "\n",
    "def triangle(height):\n",
    "    t = \"\"\n",
    "    for i in range(height):\n",
    "        t = t + (\"*\" * (i + 1)) + '\\n'\n",
    "        \n",
    "    return t\n",
    "        \n",
    "x = triangle(10)\n",
    "print(x)\n",
    "\n",
    "\n"
   ]
  },
  {
   "cell_type": "markdown",
   "metadata": {},
   "source": [
    "Write a function that calculates the GC content of a sequence. "
   ]
  },
  {
   "cell_type": "code",
   "execution_count": 62,
   "metadata": {},
   "outputs": [
    {
     "name": "stdout",
     "output_type": "stream",
     "text": [
      "30.434782608695652\n"
     ]
    }
   ],
   "source": [
    "def GC_content(seq):     \n",
    "    numGs_seq = seq.count('G')\n",
    "    numCs_seq = seq.count('C')\n",
    "    totalGCs_seq = numGs_seq + numCs_seq\n",
    "    numbases_seq = len(seq)\n",
    "    GCpercent_seq = 100*float(totalGCs_seq)/numbases_seq\n",
    "    return GCpercent_seq\n",
    "    \n",
    "seq = \"ATGACCTTATGACTACTATACAT\"\n",
    "seq2 = \"ATGCATGCTAGACTGCGTATGCGT\"\n",
    "gc = GC_content(seq)\n",
    "print(gc)"
   ]
  },
  {
   "cell_type": "markdown",
   "metadata": {},
   "source": [
    "Write a function that calculates the AT content of a sequence."
   ]
  },
  {
   "cell_type": "code",
   "execution_count": 63,
   "metadata": {},
   "outputs": [
    {
     "data": {
      "text/plain": [
       "69.56521739130434"
      ]
     },
     "execution_count": 63,
     "metadata": {},
     "output_type": "execute_result"
    }
   ],
   "source": [
    "def AT_content(seq):\n",
    "    return 100 - GC_content(seq)\n",
    "\n",
    "AT_content(seq)"
   ]
  },
  {
   "cell_type": "markdown",
   "metadata": {},
   "source": [
    "### A more complicated example\n",
    "\n",
    "This function takes in a list of genes and returns only the genes that don't start with A:"
   ]
  },
  {
   "cell_type": "code",
   "execution_count": 64,
   "metadata": {},
   "outputs": [],
   "source": [
    "# In this case, the parameter genelist will contain a list of genes\n",
    "def getGenesDoNotBeginWithA(genelist):\n",
    "    # Define an empty list variable that will contain the genes that don't begin with A\n",
    "    genesToReturn = []\n",
    "    \n",
    "    #Loop through the genelist\n",
    "    for gene in genelist:\n",
    "        # Check if first letter of gene is not A\n",
    "        if gene[0]!='A':\n",
    "            # If the gene does not start with A, add this gene to the genesToReturn list\n",
    "            genesToReturn.append(gene)\n",
    "    \n",
    "    return(genesToReturn)"
   ]
  },
  {
   "cell_type": "code",
   "execution_count": 65,
   "metadata": {},
   "outputs": [
    {
     "name": "stdout",
     "output_type": "stream",
     "text": [
      "['BCL2', 'BRAF', 'EGFR', 'KRAS', 'MAFB', 'MYC', 'TET2']\n"
     ]
    }
   ],
   "source": [
    "genes_of_interest = ['ABL1','AKT2','BCL2','BRAF','EGFR','KRAS','MAFB','MYC','TET2']\n",
    "genes_DoNotBeginWithA = getGenesDoNotBeginWithA(genes_of_interest)\n",
    "print(genes_DoNotBeginWithA)"
   ]
  },
  {
   "cell_type": "markdown",
   "metadata": {},
   "source": [
    "### Advanced Exercises\n",
    "\n",
    "Modify the function we created above to take in another parameter that defines what letter the gene should not begin with, instead of always using \"A\":"
   ]
  },
  {
   "cell_type": "code",
   "execution_count": null,
   "metadata": {},
   "outputs": [],
   "source": []
  },
  {
   "cell_type": "markdown",
   "metadata": {},
   "source": [
    "Modify the function we created return every even gene name, and only odd gene names that don't start with the specified letter."
   ]
  },
  {
   "cell_type": "code",
   "execution_count": null,
   "metadata": {},
   "outputs": [],
   "source": []
  },
  {
   "cell_type": "markdown",
   "metadata": {},
   "source": [
    "Write a function that returns the average value of a list of numbers. For example,\n"
   ]
  },
  {
   "cell_type": "code",
   "execution_count": null,
   "metadata": {},
   "outputs": [],
   "source": [
    "my_list =  [51, 87, 67, 70, 85, 49, 21, 68, 95, 73, 83, 48, 55, 58,  5, 27, 36, 65, 67,  5,  3, 96, 81, 84]"
   ]
  },
  {
   "cell_type": "markdown",
   "metadata": {},
   "source": [
    "Write a function that will take in a file that contains gene names and returns all genes that begin with the letter B or the letter R. Run this function on `SmokingRelatedGenes.txt`"
   ]
  },
  {
   "cell_type": "code",
   "execution_count": null,
   "metadata": {},
   "outputs": [],
   "source": []
  },
  {
   "cell_type": "markdown",
   "metadata": {},
   "source": [
    "Write a function that will take in a file of sequences and calculate the GC content of each of the sequences and write the sequence and the GC content into another file. In the written file, each line will contain the sequence and separated by a tab the GC content of that sequence. "
   ]
  },
  {
   "cell_type": "code",
   "execution_count": null,
   "metadata": {},
   "outputs": [],
   "source": []
  },
  {
   "cell_type": "markdown",
   "metadata": {},
   "source": [
    "Write a function that will take in a FASTA file as the input and return a written FASTA file that contains the reverse complement of all the sequences that have a GC content greater than 50%. "
   ]
  },
  {
   "cell_type": "code",
   "execution_count": 96,
   "metadata": {},
   "outputs": [
    {
     "name": "stdout",
     "output_type": "stream",
     "text": [
      "[41, 42, 32, 39, 30, 33, 26, 30, 53, 32, 47, 34, 23, 36, 38, 31, 29, 28]\n"
     ]
    }
   ],
   "source": [
    "\n",
    "f = open(\"/home/josh/tmp/biostats.csv\")\n",
    "\n",
    "names = []\n",
    "sexes = []\n",
    "ages = []\n",
    "for i, line in enumerate(f):\n",
    "    if i != 0:\n",
    "        s = line.split(\",\")\n",
    "        name = s[0]\n",
    "        sex = s[1]\n",
    "        age = int(s[2])\n",
    "        names.append(name)\n",
    "        sexes.append(sex)\n",
    "        ages.append(age)\n",
    "\n",
    "print(ages)"
   ]
  },
  {
   "cell_type": "code",
   "execution_count": null,
   "metadata": {},
   "outputs": [],
   "source": []
  }
 ],
 "metadata": {
  "kernelspec": {
   "display_name": "Python 3",
   "language": "python",
   "name": "python3"
  },
  "language_info": {
   "codemirror_mode": {
    "name": "ipython",
    "version": 3
   },
   "file_extension": ".py",
   "mimetype": "text/x-python",
   "name": "python",
   "nbconvert_exporter": "python",
   "pygments_lexer": "ipython3",
   "version": "3.7.3"
  }
 },
 "nbformat": 4,
 "nbformat_minor": 2
}
