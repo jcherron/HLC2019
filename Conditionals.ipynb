{
 "cells": [
  {
   "cell_type": "markdown",
   "metadata": {},
   "source": [
    "## Lesson 2 - Conditionals\n",
    "\n",
    "Learning objective:  Students will be comfortable using conditional statements conceptually and through coding.\n",
    "\n",
    "**Specific coding skills:**\n",
    "\n",
    "*   if, elif, else:\n"
   ]
  },
  {
   "cell_type": "markdown",
   "metadata": {},
   "source": [
    "## If statements\n",
    "\n",
    "If statements are a way to make decisions in Python by evaluating an expression. If your expression, which is evaluated in a Boolean context is true, then certain code will be run:"
   ]
  },
  {
   "cell_type": "markdown",
   "metadata": {},
   "source": [
    "`if <expression (is True)>:\n",
    "    <do statement> `\n",
    "\n",
    "    \n",
    "### Note the colon and indentation!\n",
    "\n",
    "The colon is necessary and you will get an error without it. When an if statement is true, all the code under it that is indented will be executed. So if you have multiple things to do:\n",
    "\n",
    "`if <expression (is True)>:\n",
    "    <do statement 1>\n",
    "    <do statement 2>\n",
    "    <do statement 3>`\n",
    "\n",
    "then statements 1, 2, and 3 will all be executed.\n",
    "\n",
    "### If your expression is False, then nothing will happen and none of the statement(s) will be executed.\n",
    "\n",
    "`if <expression (is False)>:\n",
    "    <nothing happens>`\n",
    "    \n",
    "`<next unindented code still executed>`\n",
    "   \n",
    "   \n",
    "#### Quick review"
   ]
  },
  {
   "cell_type": "markdown",
   "metadata": {},
   "source": [
    "Remember that comparison operators return a boolean:"
   ]
  },
  {
   "cell_type": "code",
   "execution_count": 30,
   "metadata": {},
   "outputs": [
    {
     "name": "stdout",
     "output_type": "stream",
     "text": [
      "False\n",
      "True\n"
     ]
    }
   ],
   "source": [
    "print(1>4)\n",
    "print(4>1)"
   ]
  },
  {
   "cell_type": "markdown",
   "metadata": {},
   "source": [
    "#### Which of these do we expect to return a print statement?\n",
    "\n",
    "`if True:\n",
    "    print(\"This works!\") `\n",
    "    \n",
    "`if 0:\n",
    "    print(\"This works!\") `\n",
    "    \n",
    "`if -1:\n",
    "    print(\"This works!\") `\n",
    "        "
   ]
  },
  {
   "cell_type": "code",
   "execution_count": 100,
   "metadata": {},
   "outputs": [
    {
     "name": "stdout",
     "output_type": "stream",
     "text": [
      "This works!\n"
     ]
    }
   ],
   "source": [
    "if True:\n",
    "    print(\"This works!\")"
   ]
  },
  {
   "cell_type": "code",
   "execution_count": 101,
   "metadata": {},
   "outputs": [],
   "source": [
    "if 0:\n",
    "    print(\"This works!\")"
   ]
  },
  {
   "cell_type": "code",
   "execution_count": 102,
   "metadata": {},
   "outputs": [
    {
     "name": "stdout",
     "output_type": "stream",
     "text": [
      "This works!\n"
     ]
    }
   ],
   "source": [
    "if -1:\n",
    "    print(\"This works!\")"
   ]
  },
  {
   "cell_type": "markdown",
   "metadata": {},
   "source": [
    "### You will normally see comparison operators used as the expression/condition for an if statement:"
   ]
  },
  {
   "cell_type": "code",
   "execution_count": 38,
   "metadata": {},
   "outputs": [
    {
     "name": "stdout",
     "output_type": "stream",
     "text": [
      "5 > 4\n"
     ]
    }
   ],
   "source": [
    "if 5 > 4:\n",
    "    print(\"5 > 4\")\n",
    "    \n",
    "if 3 > 4:\n",
    "    print(\"3 > 4\")"
   ]
  },
  {
   "cell_type": "markdown",
   "metadata": {},
   "source": [
    "### You can execute code when a conditional statement is not met using:\n",
    "- `not A`\n",
    "    - Need A to be False"
   ]
  },
  {
   "cell_type": "code",
   "execution_count": 84,
   "metadata": {},
   "outputs": [
    {
     "name": "stdout",
     "output_type": "stream",
     "text": [
      "V is not in your list\n"
     ]
    }
   ],
   "source": [
    "if not \"V\"  in [\"X\",\"Y\",\"Z\"]:\n",
    "    print(\"V is not in your list\")   "
   ]
  },
  {
   "cell_type": "markdown",
   "metadata": {},
   "source": [
    "### You can combine conditional statements using:\n",
    "- `A and B` \n",
    "    - Need both A and B to be True\n",
    "- `A or B`\n",
    "    - Need either A or B to be True"
   ]
  },
  {
   "cell_type": "code",
   "execution_count": 82,
   "metadata": {},
   "outputs": [
    {
     "name": "stdout",
     "output_type": "stream",
     "text": [
      "Sequence starts with ATG OR contains C\n"
     ]
    }
   ],
   "source": [
    "seq = 'ATGGATGAGG'\n",
    "\n",
    "if seq.startswith('ATG') and seq.count(\"C\") >= 1:\n",
    "    print(\"Sequence starts with ATG AND contains C\")\n",
    "    \n",
    "if seq.startswith('ATG') or seq.count(\"C\") >= 1:\n",
    "    print(\"Sequence starts with ATG OR contains C\")\n",
    "    "
   ]
  },
  {
   "cell_type": "markdown",
   "metadata": {},
   "source": [
    "## Exercise: What to do based upon the weather and your mood?\n",
    "\n",
    "Write out code that will output what you should do depending on the weather and your mood\n",
    "\n",
    "###### Possible outputs: \n",
    "- `Go to the park` if the `weather` is `good` \n",
    "- `Watch television` if the `weather` is `bad` and your `mood` is `bad`\n",
    "- `Clean the house` if the `weather` is `bad` and your `mood` is `good`"
   ]
  },
  {
   "cell_type": "code",
   "execution_count": 85,
   "metadata": {},
   "outputs": [],
   "source": [
    "weather = \"bad\"\n",
    "mood = \"bad\""
   ]
  },
  {
   "cell_type": "code",
   "execution_count": 86,
   "metadata": {},
   "outputs": [
    {
     "name": "stdout",
     "output_type": "stream",
     "text": [
      "Watch television\n"
     ]
    }
   ],
   "source": [
    "#answer\n",
    "if weather == \"good\":\n",
    "    print(\"Go to the park\")\n",
    "    \n",
    "if weather == \"bad\" and mood == \"bad\":\n",
    "    print(\"Watch television\")\n",
    "    \n",
    "if weather == \"bad\" and mood == \"good\":\n",
    "    print(\"Clean the house\")"
   ]
  },
  {
   "cell_type": "markdown",
   "metadata": {},
   "source": [
    "## Else and Elif (Else if)\n",
    "\n",
    "An else statement is used when you want to either execute code A OR code B:"
   ]
  },
  {
   "cell_type": "markdown",
   "metadata": {},
   "source": [
    "`if <expr>:\n",
    "    <statement for code A>\n",
    "else:\n",
    "    <statement for code B>`\n",
    "    \n",
    "If your expression is True, you will execute code A, if your expression is False, you will execute code B."
   ]
  },
  {
   "cell_type": "code",
   "execution_count": 87,
   "metadata": {},
   "outputs": [
    {
     "name": "stdout",
     "output_type": "stream",
     "text": [
      "x is large\n"
     ]
    }
   ],
   "source": [
    "# x = 2\n",
    "x = 100\n",
    "\n",
    "if x > 10:\n",
    "    print(\"x is large\")\n",
    "    \n",
    "else:\n",
    "    print(\"x is small\")"
   ]
  },
  {
   "cell_type": "markdown",
   "metadata": {},
   "source": [
    "If you have several alternatives, you can use an elif statement, such as if you want to execute code A or B or C:\n",
    "\n",
    "`if <expr>:\n",
    "    <statement for code A>\n",
    "elif <different expr>:\n",
    "    <statement for code B>\n",
    "else:\n",
    "    <statement for code C>`\n",
    "    \n",
    "If your expression is True, you will execute code A, if a different expression is True, you will execute code B, otherwise you will execute code C."
   ]
  },
  {
   "cell_type": "markdown",
   "metadata": {},
   "source": [
    "## Class exercise: Can we guess a fruit based upon its traits?\n",
    "\n",
    "###### Traits include: \n",
    "- Color: red, blue, yellow, green\n",
    "- Size: large, small\n",
    "- Other: fuzzy, prickly \n",
    "\n",
    "###### Possible fruits include: \n",
    "- Banana\n",
    "- Strawberry\n",
    "- Kiwi\n",
    "- Peach\n",
    "- Blueberry\n",
    "- Watermelon\n",
    "- Pineapple \n",
    "- Not sure\n",
    "\n",
    "Starting with size as your first trait, as a class work to determine which statements can be used to decide which fruit is described.\n",
    "\n",
    "Write these as a series of conditional statements to decide which fruit based on the traits."
   ]
  },
  {
   "cell_type": "code",
   "execution_count": 83,
   "metadata": {},
   "outputs": [],
   "source": [
    "traits = ['blue','small',''] \n",
    "# traits = ['green','small','fuzzy']\n",
    "# traits = ['yellow','large','prickly']\n",
    "# traits = ['yellow','large','']\n",
    "# traits = ['red','small','']\n",
    "# traits = ['red','small','fuzzy']\n",
    "# traits = ['red','large','']\n",
    "# traits = ['green','large','']\n",
    "# traits = ['purple','tiny','strange']\n"
   ]
  },
  {
   "cell_type": "code",
   "execution_count": null,
   "metadata": {},
   "outputs": [],
   "source": [
    "if \"small\" in traits:\n",
    "    #do something\n",
    "        \n",
    "elif \"large\" in traits:\n",
    "    #do something\n",
    "        \n",
    "else:\n",
    "    print(\"I'm not sure which fruit!\")"
   ]
  },
  {
   "cell_type": "code",
   "execution_count": 37,
   "metadata": {},
   "outputs": [
    {
     "name": "stdout",
     "output_type": "stream",
     "text": [
      "Blueberry\n"
     ]
    }
   ],
   "source": [
    "#answer\n",
    "\n",
    "if \"small\" in traits:\n",
    "    if \"fuzzy\" in traits:\n",
    "        if \"green\" in traits:\n",
    "            print(\"Kiwi\")\n",
    "        else:\n",
    "            print(\"Peach\")\n",
    "    elif \"red\" in traits:\n",
    "        print(\"Strawberry\")\n",
    "    elif \"blue\" in traits:\n",
    "        print(\"Blueberry\")\n",
    "        \n",
    "elif \"large\" in traits:\n",
    "    if \"yellow\" in traits:\n",
    "        if \"prickly\" in traits:\n",
    "            print(\"Pineapple\")\n",
    "        else:\n",
    "            print(\"Banana\")\n",
    "    elif \"red\" or \"green\" in traits:\n",
    "        print(\"Watermelon\")\n",
    "        \n",
    "else:\n",
    "    print(\"I'm not sure which fruit!\")\n",
    "    \n"
   ]
  },
  {
   "cell_type": "markdown",
   "metadata": {},
   "source": [
    "## One line If statements\n",
    "\n",
    "If statements can be written on a single line, for example:"
   ]
  },
  {
   "cell_type": "code",
   "execution_count": 88,
   "metadata": {},
   "outputs": [
    {
     "name": "stdout",
     "output_type": "stream",
     "text": [
      "V is not in your list\n"
     ]
    }
   ],
   "source": [
    "if not \"V\"  in [\"X\",\"Y\",\"Z\"]: print(\"V is not in your list\") "
   ]
  },
  {
   "cell_type": "markdown",
   "metadata": {},
   "source": [
    "A semicolon can be used to run multiple lines of code on a single line:"
   ]
  },
  {
   "cell_type": "code",
   "execution_count": 90,
   "metadata": {},
   "outputs": [
    {
     "name": "stdout",
     "output_type": "stream",
     "text": [
      "2 5 8\n"
     ]
    }
   ],
   "source": [
    "a = 2 ; b = 5 ; c = 8 ; print(a,b,c)"
   ]
  },
  {
   "cell_type": "code",
   "execution_count": 91,
   "metadata": {},
   "outputs": [
    {
     "name": "stdout",
     "output_type": "stream",
     "text": [
      "Largest\n",
      "8\n",
      "Smallest\n",
      "2\n"
     ]
    }
   ],
   "source": [
    "if b > a and c > b: print(\"Largest\") ; print(c) ; print(\"Smallest\"); print(a)"
   ]
  },
  {
   "cell_type": "markdown",
   "metadata": {},
   "source": [
    "### Usually, it is NOT recommended to write complicated one line If statements"
   ]
  },
  {
   "cell_type": "markdown",
   "metadata": {},
   "source": [
    "## Exercise: GC Content\n",
    "\n",
    "Write code that determines the GC content of a sequence as a percentage and returns `GC Rich`, `Neutral`, `AT Rich`, `Uracil found`, `Other characters included`.\n",
    "\n",
    "###### Possible outputs: \n",
    "- `GC Rich` if the GC content is greater than 65%\n",
    "- `Neutral` if the GC content is between 35 and 65% inclusive\n",
    "- `AT Rich` if the GC content is less than 35%\n",
    "- `Uracil found` if any U is included in the sequence\n",
    "- `Unknown characters included` if any other characters are in the sequence "
   ]
  },
  {
   "cell_type": "code",
   "execution_count": 73,
   "metadata": {},
   "outputs": [],
   "source": [
    "seq1 = 'ATGCGGGGCGCGTCGATGC'\n",
    "seq2 = 'ATGCGATATGCGCGTATGC'\n",
    "seq3 = 'ATGCGATAAAATTCGATAT'\n",
    "seq4 = 'AUGCGAUGCGAUUCGAUAU'\n",
    "seq5 = 'atgCGATATGGCGTATGC'\n",
    "seq6 = 'ATGCGAHELLOWORLDATA'"
   ]
  },
  {
   "cell_type": "code",
   "execution_count": 74,
   "metadata": {},
   "outputs": [
    {
     "name": "stdout",
     "output_type": "stream",
     "text": [
      "AT Rich\n"
     ]
    }
   ],
   "source": [
    "#Answer\n",
    "\n",
    "seq_upper = seq3.upper()\n",
    "\n",
    "seq_length = len(seq_upper)\n",
    "num_ATCG = seq_upper.count(\"A\") + seq_upper.count(\"T\") + seq_upper.count(\"C\") + seq_upper.count(\"G\")\n",
    "\n",
    "if num_ATCG != seq_length:\n",
    "    if seq_upper.find('U') != -1:\n",
    "        print('Uracil found')\n",
    "    else: \n",
    "        print('Unknown characters included')\n",
    "\n",
    "else:\n",
    "    number_of_G = seq_upper.count(\"G\")\n",
    "    number_of_C = seq_upper.count(\"C\")\n",
    "\n",
    "    GC_Content = (number_of_G + number_of_C)/seq_length*100.\n",
    "\n",
    "    if GC_Content > 65:\n",
    "        print(\"GC Rich\")\n",
    "    elif GC_Content < 35:\n",
    "        print(\"AT Rich\")\n",
    "    else: \n",
    "        print(\"Neutral\")"
   ]
  }
 ],
 "metadata": {
  "kernelspec": {
   "display_name": "Python 3",
   "language": "python",
   "name": "python3"
  },
  "language_info": {
   "codemirror_mode": {
    "name": "ipython",
    "version": 3
   },
   "file_extension": ".py",
   "mimetype": "text/x-python",
   "name": "python",
   "nbconvert_exporter": "python",
   "pygments_lexer": "ipython3",
   "version": "3.6.5"
  }
 },
 "nbformat": 4,
 "nbformat_minor": 2
}
