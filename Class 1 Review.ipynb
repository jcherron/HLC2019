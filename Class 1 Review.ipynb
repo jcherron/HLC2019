{
 "cells": [
  {
   "cell_type": "markdown",
   "metadata": {},
   "source": [
    "## Review Exercises\n",
    "\n",
    "1. Define three variables called <strong>x</strong>, <strong>y</strong>, and <strong>z</strong>, and store their average in a variable called <strong>average</strong>\n",
    "2. Calculate the result of the following expression:\n",
    "   $$\\left(3 + 4 * 7\\right)\\left(\\frac{4}{6}\\right)^{\\frac{3}{7}}$$\n",
    "3. The following code is supposed to implement the quadratic equation $$x = \\frac{-b \\pm \\sqrt{b^2 - 4ac}}{2a}$$ but has an error (that may be repeated). What needs to be changed in order to fix it?"
   ]
  },
  {
   "cell_type": "code",
   "execution_count": null,
   "metadata": {},
   "outputs": [],
   "source": [
    "a = 1\n",
    "b = 2\n",
    "c = -15\n",
    "\n",
    "pos = (-b + ((b**2) - 4ac)**(0.5))/(2a)\n",
    "neg = (-b - ((b**2) - 4ac)**(0.5))/(2a)\n",
    "print(pos)\n",
    "print(neg)"
   ]
  },
  {
   "cell_type": "markdown",
   "metadata": {},
   "source": [
    "4. Predict what value will be stored in each of the following variables after all of the code runs, then test them yourself to check:"
   ]
  },
  {
   "cell_type": "code",
   "execution_count": null,
   "metadata": {},
   "outputs": [],
   "source": [
    "a = 4**2\n",
    "\n",
    "b = a / 2\n",
    "b = b + 1\n",
    "a = b + 1\n",
    "c = b + a\n",
    "\n",
    "print(a)\n",
    "print(b)\n",
    "print(c)"
   ]
  }
 ],
 "metadata": {
  "kernelspec": {
   "display_name": "Python 3",
   "language": "python",
   "name": "python3"
  },
  "language_info": {
   "codemirror_mode": {
    "name": "ipython",
    "version": 3
   },
   "file_extension": ".py",
   "mimetype": "text/x-python",
   "name": "python",
   "nbconvert_exporter": "python",
   "pygments_lexer": "ipython3",
   "version": "3.7.3"
  }
 },
 "nbformat": 4,
 "nbformat_minor": 2
}
