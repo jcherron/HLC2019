{
 "cells": [
  {
   "cell_type": "markdown",
   "metadata": {
    "colab_type": "text",
    "id": "JA9KlIebOBa3"
   },
   "source": [
    "## Lesson 1 - Set up and the basics\n",
    "\n",
    "Learning objective:  Students will be comfortable doing basic comands in Jupyter notebooks. \n",
    "\n",
    "**Specific coding skills:**\n",
    "\n",
    "\n",
    "*   basic math operatores (+, -, *, /)\n",
    "*   assignment operator (=)\n",
    "*   basic functions (len(), type())\n",
    "*   common data classes (integer, float, string, boolean)\n",
    "*   comparison operatores (>, <, ==, >=, <=)\n"
   ]
  },
  {
   "cell_type": "markdown",
   "metadata": {
    "colab_type": "text",
    "id": "ohVu10_HF8WU"
   },
   "source": [
    "### Introduction to jupyter\n",
    "\n",
    "\"The Jupyter Notebook is an incredibly powerful tool for interactively developing and presenting data science projects. A notebook integrates code and its output into a single document that combines visualisations, narrative text, mathematical equations, and other rich media. The intuitive workflow promotes iterative and rapid development, making notebooks an increasingly popular choice at the heart of contemporary data science, analysis, and increasingly science at large. \" - [dataquest](https://www.dataquest.io/blog/jupyter-notebook-tutorial/)\n",
    "\n",
    "All of our lessons will be presented in jupyter notebooks. You can follow along in a partially filled out jupyter notebook and fill in lessons as you go. Let's get started! \n",
    "\n",
    "Each cell can include text (like this one) or code. To run the python code in a cell, you just hit shift + enter. Try it with the code below. "
   ]
  },
  {
   "cell_type": "code",
   "execution_count": 0,
   "metadata": {
    "colab": {
     "base_uri": "https://localhost:8080/",
     "height": 34
    },
    "colab_type": "code",
    "executionInfo": {
     "elapsed": 453,
     "status": "ok",
     "timestamp": 1558636912602,
     "user": {
      "displayName": "Amy Allen",
      "photoUrl": "",
      "userId": "11384158499899801689"
     },
     "user_tz": 240
    },
    "id": "cz-05_Z5N-Ko",
    "outputId": "6cc02346-9429-4f0f-f633-514eb152255c"
   },
   "outputs": [
    {
     "name": "stdout",
     "output_type": "stream",
     "text": [
      "Hello World!\n"
     ]
    }
   ],
   "source": [
    "print(\"Hello World!\")"
   ]
  },
  {
   "cell_type": "markdown",
   "metadata": {
    "colab_type": "text",
    "id": "RLq-CchwAGvP"
   },
   "source": [
    "### Basic math operators\n",
    "Python can do math for you, which is convient. To get used to doing writing and running code in jupyter, we're going to do some basic math. Let's calculate the following expressions:\n",
    "\n",
    "$$ 2 + 3 $$"
   ]
  },
  {
   "cell_type": "code",
   "execution_count": 0,
   "metadata": {
    "colab": {
     "base_uri": "https://localhost:8080/",
     "height": 34
    },
    "colab_type": "code",
    "executionInfo": {
     "elapsed": 351,
     "status": "ok",
     "timestamp": 1558637073409,
     "user": {
      "displayName": "Amy Allen",
      "photoUrl": "",
      "userId": "11384158499899801689"
     },
     "user_tz": 240
    },
    "id": "W2okep-wAeLi",
    "outputId": "74e65a73-b92b-46c5-9dc0-c576a02adef7"
   },
   "outputs": [
    {
     "data": {
      "text/plain": [
       "5"
      ]
     },
     "execution_count": 2,
     "metadata": {
      "tags": []
     },
     "output_type": "execute_result"
    }
   ],
   "source": [
    "2+3"
   ]
  },
  {
   "cell_type": "markdown",
   "metadata": {
    "colab_type": "text",
    "id": "qgxIbZKpAo6v"
   },
   "source": [
    "$$ \\frac{6}{2} * 20 +100 $$"
   ]
  },
  {
   "cell_type": "code",
   "execution_count": 0,
   "metadata": {
    "colab": {
     "base_uri": "https://localhost:8080/",
     "height": 34
    },
    "colab_type": "code",
    "executionInfo": {
     "elapsed": 329,
     "status": "ok",
     "timestamp": 1558637149933,
     "user": {
      "displayName": "Amy Allen",
      "photoUrl": "",
      "userId": "11384158499899801689"
     },
     "user_tz": 240
    },
    "id": "CutTFG-vAx4O",
    "outputId": "1a427db2-c03c-46c0-873a-e08e515d39b2"
   },
   "outputs": [
    {
     "data": {
      "text/plain": [
       "160.0"
      ]
     },
     "execution_count": 3,
     "metadata": {
      "tags": []
     },
     "output_type": "execute_result"
    }
   ],
   "source": [
    "6/2*20+100"
   ]
  },
  {
   "cell_type": "markdown",
   "metadata": {
    "colab_type": "text",
    "id": "jRoD3bj5A8Um"
   },
   "source": [
    "$$ 2^{24} $$"
   ]
  },
  {
   "cell_type": "code",
   "execution_count": 0,
   "metadata": {
    "colab": {
     "base_uri": "https://localhost:8080/",
     "height": 34
    },
    "colab_type": "code",
    "executionInfo": {
     "elapsed": 336,
     "status": "ok",
     "timestamp": 1558637211993,
     "user": {
      "displayName": "Amy Allen",
      "photoUrl": "",
      "userId": "11384158499899801689"
     },
     "user_tz": 240
    },
    "id": "6UBGcCmtA30K",
    "outputId": "50bfc60e-21ed-4f28-ec7f-a7016b746729"
   },
   "outputs": [
    {
     "data": {
      "text/plain": [
       "26"
      ]
     },
     "execution_count": 5,
     "metadata": {
      "tags": []
     },
     "output_type": "execute_result"
    }
   ],
   "source": [
    "2^(24)"
   ]
  },
  {
   "cell_type": "markdown",
   "metadata": {
    "colab_type": "text",
    "id": "aMHMguWaBQXF"
   },
   "source": [
    "Did you get the answer you expected for the last probelm? If you used a `^` for the exponent you got the answer 26, which definitely isn't right. It is important to check the answers you get from code to make sure they seem reasonable. If they don't seem right, there is probably a bug in your code. \n",
    "\n",
    "In python you have to use `**` for exponents. The `^` operator is used for bit-wise XOR in python (and many other programming languages), which we will not discuss in this class. Try again using this `**` operator!"
   ]
  },
  {
   "cell_type": "code",
   "execution_count": 0,
   "metadata": {
    "colab": {
     "base_uri": "https://localhost:8080/",
     "height": 34
    },
    "colab_type": "code",
    "executionInfo": {
     "elapsed": 343,
     "status": "ok",
     "timestamp": 1558637491102,
     "user": {
      "displayName": "Amy Allen",
      "photoUrl": "",
      "userId": "11384158499899801689"
     },
     "user_tz": 240
    },
    "id": "2hgyLorIBE-u",
    "outputId": "d0fd605c-e13a-4f56-dc08-b7ed180cca35"
   },
   "outputs": [
    {
     "data": {
      "text/plain": [
       "16777216"
      ]
     },
     "execution_count": 7,
     "metadata": {
      "tags": []
     },
     "output_type": "execute_result"
    }
   ],
   "source": [
    "2**24"
   ]
  },
  {
   "cell_type": "markdown",
   "metadata": {
    "colab_type": "text",
    "id": "TMTq6N5YCJIw"
   },
   "source": [
    "That's better! Make sure you use `**` any time you need to use exponents."
   ]
  },
  {
   "cell_type": "markdown",
   "metadata": {
    "colab_type": "text",
    "id": "w0JespP9CxHF"
   },
   "source": [
    "### The assignment operator\n",
    "\n",
    "It is convenient to have python store and remember variables so you can use them later. You can do this with the assignment operator (`=`). Let's assign a few variables."
   ]
  },
  {
   "cell_type": "code",
   "execution_count": 0,
   "metadata": {
    "colab": {
     "base_uri": "https://localhost:8080/",
     "height": 34
    },
    "colab_type": "code",
    "executionInfo": {
     "elapsed": 371,
     "status": "ok",
     "timestamp": 1558637905382,
     "user": {
      "displayName": "Amy Allen",
      "photoUrl": "",
      "userId": "11384158499899801689"
     },
     "user_tz": 240
    },
    "id": "dULAPQ9FCHJs",
    "outputId": "ce7350d1-3282-4b02-9f7b-51ce0669431a"
   },
   "outputs": [
    {
     "name": "stdout",
     "output_type": "stream",
     "text": [
      "1 2 3\n"
     ]
    }
   ],
   "source": [
    "x = 1\n",
    "y = 2\n",
    "z = 3\n",
    "print(x, y, z)"
   ]
  },
  {
   "cell_type": "markdown",
   "metadata": {
    "colab_type": "text",
    "id": "653q09cPDx6n"
   },
   "source": [
    "Here you can see that we assigned the values 1, 2, and 3 to the variables `x`, `y`, and `z` respectively. We then printed x, y, and z to see what the values were. Try assigning variables yourself. Assign 2, 4, and 8 to `a`, `b`, and `c` respectively. "
   ]
  },
  {
   "cell_type": "code",
   "execution_count": 0,
   "metadata": {
    "colab": {},
    "colab_type": "code",
    "id": "QXwu1qgWDwPW"
   },
   "outputs": [],
   "source": [
    "a = 2\n",
    "b = 4\n",
    "c = 8"
   ]
  },
  {
   "cell_type": "markdown",
   "metadata": {
    "colab_type": "text",
    "id": "4lrj8FS3EhvC"
   },
   "source": [
    "Notice that if you don't include a `print()` statement, running the cell doesn't return anything. That's okay though; the variables are still assigned (unless you got an error). \n",
    "\n",
    "Now we can easily call our variables and do basic operations with them. Calculate the following:\n",
    "$$ x + b $$\n",
    "$$ z * c $$\n",
    "$$ \\left(\\frac{b}{y}\\right) ^ z $$"
   ]
  },
  {
   "cell_type": "code",
   "execution_count": 0,
   "metadata": {
    "colab": {
     "base_uri": "https://localhost:8080/",
     "height": 34
    },
    "colab_type": "code",
    "executionInfo": {
     "elapsed": 392,
     "status": "ok",
     "timestamp": 1558638381259,
     "user": {
      "displayName": "Amy Allen",
      "photoUrl": "",
      "userId": "11384158499899801689"
     },
     "user_tz": 240
    },
    "id": "lYA3JMNVEfzp",
    "outputId": "69b17765-5eb3-4633-f9d5-c60a7dbcb375"
   },
   "outputs": [
    {
     "data": {
      "text/plain": [
       "8.0"
      ]
     },
     "execution_count": 10,
     "metadata": {
      "tags": []
     },
     "output_type": "execute_result"
    }
   ],
   "source": [
    "x+b\n",
    "z*c\n",
    "(b/y)**z"
   ]
  },
  {
   "cell_type": "markdown",
   "metadata": {
    "colab_type": "text",
    "id": "TyEB5EgBFnJ-"
   },
   "source": [
    "Notice that only the last solution is returned. If you want all of the solutions to be returned, include print statements."
   ]
  },
  {
   "cell_type": "code",
   "execution_count": 0,
   "metadata": {
    "colab": {
     "base_uri": "https://localhost:8080/",
     "height": 69
    },
    "colab_type": "code",
    "executionInfo": {
     "elapsed": 361,
     "status": "ok",
     "timestamp": 1558638443377,
     "user": {
      "displayName": "Amy Allen",
      "photoUrl": "",
      "userId": "11384158499899801689"
     },
     "user_tz": 240
    },
    "id": "QnTGUc1NFkaK",
    "outputId": "6c5340d5-bde1-4678-8800-32f9278ae62a"
   },
   "outputs": [
    {
     "name": "stdout",
     "output_type": "stream",
     "text": [
      "5\n",
      "24\n",
      "8.0\n"
     ]
    }
   ],
   "source": [
    "print(x+b)\n",
    "print(z*c)\n",
    "print((b/y)**z)"
   ]
  },
  {
   "cell_type": "markdown",
   "metadata": {
    "colab_type": "text",
    "id": "2Mg9-mAEKPBO"
   },
   "source": [
    "### Data types\n",
    "In this class we will be focusing on four main data types\n",
    "* string\n",
    "* integer\n",
    "* float\n",
    "* boolean"
   ]
  },
  {
   "cell_type": "markdown",
   "metadata": {
    "colab_type": "text",
    "id": "V0zIo5U5MaY7"
   },
   "source": [
    "#### Strings\n",
    "Strings are essentially text. We used a string in our very first cell when we ran `print(\"Hello World!\")`.  `\"Hello World!\"` is a string. You can assign strings to variables and call them, just like we did with numbers in the previous section. Here is an example:"
   ]
  },
  {
   "cell_type": "code",
   "execution_count": 1,
   "metadata": {
    "colab": {
     "base_uri": "https://localhost:8080/",
     "height": 34
    },
    "colab_type": "code",
    "executionInfo": {
     "elapsed": 453,
     "status": "ok",
     "timestamp": 1559151321767,
     "user": {
      "displayName": "Amy Allen",
      "photoUrl": "",
      "userId": "11384158499899801689"
     },
     "user_tz": 240
    },
    "id": "dT2a94G9KPk8",
    "outputId": "d315baa0-6959-4c06-c478-4c1bdb2316fa"
   },
   "outputs": [
    {
     "name": "stdout",
     "output_type": "stream",
     "text": [
      "GCGCTCAAT TACTAGGCA AATCGCTAG\n"
     ]
    }
   ],
   "source": [
    "str1 = 'GCGCTCAAT'\n",
    "str2 = 'TACTAGGCA'\n",
    "str3 = 'AATCGCTAG'\n",
    "print(str1, str2, str3)"
   ]
  },
  {
   "cell_type": "markdown",
   "metadata": {
    "colab_type": "text",
    "id": "y4btRsSXNWzb"
   },
   "source": [
    "#### Integers\n",
    "Integers are positive or negative whole numbers with no decimals. We have already used a few in this lesson like our variables `a`, `b`, `c`, `x`, `y`, and `z`."
   ]
  },
  {
   "cell_type": "code",
   "execution_count": 0,
   "metadata": {
    "colab": {
     "base_uri": "https://localhost:8080/",
     "height": 34
    },
    "colab_type": "code",
    "executionInfo": {
     "elapsed": 350,
     "status": "ok",
     "timestamp": 1558640602260,
     "user": {
      "displayName": "Amy Allen",
      "photoUrl": "",
      "userId": "11384158499899801689"
     },
     "user_tz": 240
    },
    "id": "Sd2NQktfN-Pa",
    "outputId": "ff3f824c-4b2e-4742-e67d-7a516ebd138f"
   },
   "outputs": [
    {
     "name": "stdout",
     "output_type": "stream",
     "text": [
      "2 4 8 1 2 3\n"
     ]
    }
   ],
   "source": [
    "print(a, b, c, x, y, z)"
   ]
  },
  {
   "cell_type": "markdown",
   "metadata": {
    "colab_type": "text",
    "id": "7l9OhHeCOKwj"
   },
   "source": [
    "#### Floats\n",
    "Floats, short for floating point real values, are positive or negative numbers with decimals. You saw some when we did division. Like integers, floats can also be assigned to variables and used to do arithmetic. "
   ]
  },
  {
   "cell_type": "code",
   "execution_count": 0,
   "metadata": {
    "colab": {
     "base_uri": "https://localhost:8080/",
     "height": 34
    },
    "colab_type": "code",
    "executionInfo": {
     "elapsed": 417,
     "status": "ok",
     "timestamp": 1558640900825,
     "user": {
      "displayName": "Amy Allen",
      "photoUrl": "",
      "userId": "11384158499899801689"
     },
     "user_tz": 240
    },
    "id": "OT1bdd10Owb1",
    "outputId": "dfb0e333-7440-46a0-9007-ff0382083525"
   },
   "outputs": [
    {
     "name": "stdout",
     "output_type": "stream",
     "text": [
      "4.2 3.0 -2.1 2.1\n"
     ]
    }
   ],
   "source": [
    "f1 = 4.2\n",
    "f2 = 3.0\n",
    "f3 = -2.1\n",
    "print(f1, f2, f3, f1+f3)"
   ]
  },
  {
   "cell_type": "markdown",
   "metadata": {
    "colab_type": "text",
    "id": "bOSayuNbQT5j"
   },
   "source": [
    "#### Booleans\n",
    "Booleans are either `True` or `False`. They are often used for comparisons (for example, `1>2` would result in `False`). You can assign Booleans to variables. Additionally, `True` behaves like `1` and `False` behaves like `0` in arithmetic operations. "
   ]
  },
  {
   "cell_type": "code",
   "execution_count": 0,
   "metadata": {
    "colab": {
     "base_uri": "https://localhost:8080/",
     "height": 52
    },
    "colab_type": "code",
    "executionInfo": {
     "elapsed": 331,
     "status": "ok",
     "timestamp": 1558641508786,
     "user": {
      "displayName": "Amy Allen",
      "photoUrl": "",
      "userId": "11384158499899801689"
     },
     "user_tz": 240
    },
    "id": "YT0PNRinRRmY",
    "outputId": "cd008ea2-e679-4580-94d9-d519a145e05c"
   },
   "outputs": [
    {
     "name": "stdout",
     "output_type": "stream",
     "text": [
      "2\n",
      "0\n"
     ]
    }
   ],
   "source": [
    "T = True\n",
    "F = False\n",
    "print(2*T)\n",
    "print(2*F)"
   ]
  },
  {
   "cell_type": "markdown",
   "metadata": {
    "colab_type": "text",
    "id": "L42-ZXlERhZ7"
   },
   "source": [
    "### Comparison operators\n",
    "Comparison operators (>, <, ==, >=, <=) work like you would expect them to, and give a result in the form of a boolean. Let's try a few comparisons (remember to use print statements to see all of the results).\n",
    "$$ 2>1 $$\n",
    "$$ 4<=2 $$\n",
    "$$ 5==5 $$\n",
    "$$ 6>=6$$\n",
    "$$ 7<3 $$\n",
    "\n",
    "Remember that = assigns a variable and == compares two values."
   ]
  },
  {
   "cell_type": "code",
   "execution_count": 0,
   "metadata": {
    "colab": {
     "base_uri": "https://localhost:8080/",
     "height": 104
    },
    "colab_type": "code",
    "executionInfo": {
     "elapsed": 711,
     "status": "ok",
     "timestamp": 1558641786317,
     "user": {
      "displayName": "Amy Allen",
      "photoUrl": "",
      "userId": "11384158499899801689"
     },
     "user_tz": 240
    },
    "id": "52io3zdvSWcr",
    "outputId": "331a3fdb-a699-4faa-e418-708a2c021bf4"
   },
   "outputs": [
    {
     "name": "stdout",
     "output_type": "stream",
     "text": [
      "True\n",
      "False\n",
      "True\n",
      "True\n",
      "False\n"
     ]
    }
   ],
   "source": [
    "print(2 > 1.5)\n",
    "print(4 <= 2)\n",
    "print(5 == 5.0)\n",
    "print(6 >= 6)\n",
    "print(7.4 < 3)"
   ]
  },
  {
   "cell_type": "markdown",
   "metadata": {
    "colab_type": "text",
    "id": "gnIb349tSmep"
   },
   "source": [
    "Python will coerce integers to floats (for example change `2` to `2.0`) in order to compare the different data types. "
   ]
  },
  {
   "cell_type": "markdown",
   "metadata": {
    "colab_type": "text",
    "id": "QGa5ZQSVGEPB"
   },
   "source": [
    "### Basic functions\n",
    "\n",
    "We've already started using one basic function, `print()`. You may have already figured out what it does, but it prints the information inside the parenthese to the cell output. Since you have already had some practice with that. Let's explore some other basic functions. \n",
    "\n",
    "The function `type()` returns the data type of the argument you pass it. See the example below:"
   ]
  },
  {
   "cell_type": "code",
   "execution_count": 3,
   "metadata": {
    "colab": {
     "base_uri": "https://localhost:8080/",
     "height": 34
    },
    "colab_type": "code",
    "executionInfo": {
     "elapsed": 349,
     "status": "ok",
     "timestamp": 1558709998534,
     "user": {
      "displayName": "Amy Allen",
      "photoUrl": "",
      "userId": "11384158499899801689"
     },
     "user_tz": 240
    },
    "id": "_o7xVv_kFzle",
    "outputId": "ee7cfaab-cd42-4f49-cf5b-09198dcce520"
   },
   "outputs": [
    {
     "data": {
      "text/plain": [
       "float"
      ]
     },
     "execution_count": 3,
     "metadata": {
      "tags": []
     },
     "output_type": "execute_result"
    }
   ],
   "source": [
    "type(2.1)"
   ]
  },
  {
   "cell_type": "markdown",
   "metadata": {
    "colab_type": "text",
    "id": "HtkhsWOdWzie"
   },
   "source": [
    "Now use `type()` to find the data type of the following objects: `1`, `True`, and `'Hello World!'`."
   ]
  },
  {
   "cell_type": "code",
   "execution_count": 4,
   "metadata": {
    "colab": {
     "base_uri": "https://localhost:8080/",
     "height": 34
    },
    "colab_type": "code",
    "executionInfo": {
     "elapsed": 457,
     "status": "ok",
     "timestamp": 1558710111036,
     "user": {
      "displayName": "Amy Allen",
      "photoUrl": "",
      "userId": "11384158499899801689"
     },
     "user_tz": 240
    },
    "id": "mk0UzyR0WnK2",
    "outputId": "052f0b01-6841-4ad0-fdc6-1797ae76f5ed"
   },
   "outputs": [
    {
     "data": {
      "text/plain": [
       "int"
      ]
     },
     "execution_count": 4,
     "metadata": {
      "tags": []
     },
     "output_type": "execute_result"
    }
   ],
   "source": [
    "type(1)"
   ]
  },
  {
   "cell_type": "code",
   "execution_count": 5,
   "metadata": {
    "colab": {
     "base_uri": "https://localhost:8080/",
     "height": 34
    },
    "colab_type": "code",
    "executionInfo": {
     "elapsed": 602,
     "status": "ok",
     "timestamp": 1558710119044,
     "user": {
      "displayName": "Amy Allen",
      "photoUrl": "",
      "userId": "11384158499899801689"
     },
     "user_tz": 240
    },
    "id": "CCa1TiLsXMi_",
    "outputId": "f02588c6-6203-4028-fa0b-73a6f8fa6756"
   },
   "outputs": [
    {
     "data": {
      "text/plain": [
       "bool"
      ]
     },
     "execution_count": 5,
     "metadata": {
      "tags": []
     },
     "output_type": "execute_result"
    }
   ],
   "source": [
    "type(True)"
   ]
  },
  {
   "cell_type": "code",
   "execution_count": 6,
   "metadata": {
    "colab": {
     "base_uri": "https://localhost:8080/",
     "height": 34
    },
    "colab_type": "code",
    "executionInfo": {
     "elapsed": 360,
     "status": "ok",
     "timestamp": 1558710128161,
     "user": {
      "displayName": "Amy Allen",
      "photoUrl": "",
      "userId": "11384158499899801689"
     },
     "user_tz": 240
    },
    "id": "KtBK-TNhXOdr",
    "outputId": "43257602-00f3-4ed5-802b-b98026aa44a1"
   },
   "outputs": [
    {
     "data": {
      "text/plain": [
       "str"
      ]
     },
     "execution_count": 6,
     "metadata": {
      "tags": []
     },
     "output_type": "execute_result"
    }
   ],
   "source": [
    "type('Hello World!')"
   ]
  },
  {
   "cell_type": "markdown",
   "metadata": {
    "colab_type": "text",
    "id": "DAle4CYJXTOd"
   },
   "source": [
    "There are functions that let you specify the data type. `int()`, `float()`, `bool()`, and `str()` let you specify data as an integer, float, boolean, or string. Let's take a look at how this works for the `int()` function. "
   ]
  },
  {
   "cell_type": "code",
   "execution_count": 9,
   "metadata": {
    "colab": {
     "base_uri": "https://localhost:8080/",
     "height": 52
    },
    "colab_type": "code",
    "executionInfo": {
     "elapsed": 325,
     "status": "ok",
     "timestamp": 1558710547473,
     "user": {
      "displayName": "Amy Allen",
      "photoUrl": "",
      "userId": "11384158499899801689"
     },
     "user_tz": 240
    },
    "id": "HTjA2R-mXQvm",
    "outputId": "5975da23-f386-410e-d6d8-164eba25d7a8"
   },
   "outputs": [
    {
     "name": "stdout",
     "output_type": "stream",
     "text": [
      "2\n",
      "2\n"
     ]
    }
   ],
   "source": [
    "print(int(2.1))\n",
    "print(int(2.8))"
   ]
  },
  {
   "cell_type": "markdown",
   "metadata": {
    "colab_type": "text",
    "id": "e6scyNgZY3-j"
   },
   "source": [
    "Notice that both `2.1` and `2.8` result in `2` when assigned to be integers. This is because the `int()` function does not round, it just removes the decimal. \n",
    "\n",
    "You'll get an opportunity to learn how each of these functions work in the Exercises section. "
   ]
  },
  {
   "cell_type": "markdown",
   "metadata": {
    "colab_type": "text",
    "id": "YBvX1CHRZ0Di"
   },
   "source": [
    "### Exercises\n",
    "The following exercise will help you understand the concepts taught in this lesson better. It is only one problem, but covers operators, comparison, data types, and basic functions. "
   ]
  },
  {
   "cell_type": "markdown",
   "metadata": {
    "colab_type": "text",
    "id": "A86KrN-oZ8Iq"
   },
   "source": [
    "Predict the results of the following expressions, and use python the check your answers (know that some of these may result in errors):\n",
    "```\n",
    "1 > 3\n",
    "14 >= 2*7\n",
    "\"1\" > \"3\"\n",
    "bool(10) > 2\n",
    "0 == False\n",
    "0 == str(False)\n",
    "0 == str(int(False))\n",
    "str(0) == 0\n",
    "True == 1**0\n",
    "int(True) == str(1**0)\n",
    "float(\"one\") == 1\n",
    "```"
   ]
  },
  {
   "cell_type": "markdown",
   "metadata": {
    "colab": {},
    "colab_type": "code",
    "id": "lW1bG4q8bsZw"
   },
   "source": [
    "Things to add?\n",
    " in operator \n",
    " help"
   ]
  },
  {
   "cell_type": "code",
   "execution_count": null,
   "metadata": {},
   "outputs": [],
   "source": []
  }
 ],
 "metadata": {
  "colab": {
   "collapsed_sections": [],
   "name": "Lesson 1.ipynb",
   "provenance": [],
   "version": "0.3.2"
  },
  "kernelspec": {
   "display_name": "Python 3",
   "language": "python",
   "name": "python3"
  },
  "language_info": {
   "codemirror_mode": {
    "name": "ipython",
    "version": 3
   },
   "file_extension": ".py",
   "mimetype": "text/x-python",
   "name": "python",
   "nbconvert_exporter": "python",
   "pygments_lexer": "ipython3",
   "version": "3.6.5"
  }
 },
 "nbformat": 4,
 "nbformat_minor": 1
}
